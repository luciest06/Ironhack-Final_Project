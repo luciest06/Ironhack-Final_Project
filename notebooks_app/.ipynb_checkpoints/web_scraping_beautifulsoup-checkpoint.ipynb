{
 "cells": [
  {
   "cell_type": "code",
   "execution_count": 9,
   "id": "fe65a071-b7cf-4d07-9d6a-98c116183b07",
   "metadata": {},
   "outputs": [],
   "source": [
    "import requests\n",
    "import time\n",
    "from bs4 import BeautifulSoup\n",
    "from requests.exceptions import RequestException\n"
   ]
  },
  {
   "cell_type": "code",
   "execution_count": 10,
   "id": "cb674551-41ba-4406-8c85-58d808e673e4",
   "metadata": {},
   "outputs": [
    {
     "name": "stdout",
     "output_type": "stream",
     "text": [
      "Attempt 1: Received status code 403\n",
      "Attempt 2: Received status code 403\n",
      "Attempt 3: Received status code 403\n",
      "Attempt 4: Received status code 403\n",
      "Attempt 5: Received status code 403\n"
     ]
    }
   ],
   "source": [
    "url = \"https://www.whistleout.com/CellPhones/Guides/Best-cell-phone-plans\"\n",
    "headers = {\n",
    "    'User-Agent': 'Mozilla/5.0 (Windows NT 10.0; Win64; x64) AppleWebKit/537.36 (KHTML, like Gecko) Chrome/58.0.3029.110 Safari/537.36'\n",
    "}\n",
    "\n",
    "max_retries = 5\n",
    "delay = 5  # Start with a 5-second delay\n",
    "\n",
    "for i in range(max_retries):\n",
    "    try:\n",
    "        response = requests.get(url, headers=headers)\n",
    "        if response.status_code == 200:\n",
    "            print(\"Success!\")\n",
    "            print(response.text)  # Or process the response content\n",
    "            break\n",
    "        else:\n",
    "            print(f\"Attempt {i + 1}: Received status code {response.status_code}\")\n",
    "    except RequestException as e:\n",
    "        print(f\"Attempt {i + 1} failed: {e}\")\n",
    "    \n",
    "    time.sleep(delay)  # Wait before retrying\n",
    "    delay *= 2  # Double the delay after each retry (exponential backoff)"
   ]
  }
 ],
 "metadata": {
  "kernelspec": {
   "display_name": "venv",
   "language": "python",
   "name": "venv"
  },
  "language_info": {
   "codemirror_mode": {
    "name": "ipython",
    "version": 3
   },
   "file_extension": ".py",
   "mimetype": "text/x-python",
   "name": "python",
   "nbconvert_exporter": "python",
   "pygments_lexer": "ipython3",
   "version": "3.12.4"
  }
 },
 "nbformat": 4,
 "nbformat_minor": 5
}
